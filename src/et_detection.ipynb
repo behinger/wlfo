{
 "metadata": {
  "language_info": {
   "codemirror_mode": {
    "name": "ipython",
    "version": 3
   },
   "file_extension": ".py",
   "mimetype": "text/x-python",
   "name": "python",
   "nbconvert_exporter": "python",
   "pygments_lexer": "ipython3",
   "version": "3.8.10"
  },
  "orig_nbformat": 2,
  "kernelspec": {
   "name": "python3810jvsc74a57bd0956805a6d3b24831ffd496c5ca595ae0db0b31145467818c202c40900bd4764f",
   "display_name": "Python 3.8.10 64-bit ('wlfo': conda)"
  },
  "metadata": {
   "interpreter": {
    "hash": "956805a6d3b24831ffd496c5ca595ae0db0b31145467818c202c40900bd4764f"
   }
  }
 },
 "nbformat": 4,
 "nbformat_minor": 2,
 "cells": [
  {
   "cell_type": "code",
   "execution_count": 1,
   "metadata": {},
   "outputs": [],
   "source": [
    "import remodnav\n",
    "import mne\n",
    "import os\n",
    "import numpy as np\n",
    "import matplotlib.pyplot as plt"
   ]
  },
  {
   "cell_type": "code",
   "execution_count": 2,
   "metadata": {},
   "outputs": [
    {
     "output_type": "execute_result",
     "data": {
      "text/plain": [
       "'/store/users/ehinger/wlfo/src'"
      ]
     },
     "metadata": {},
     "execution_count": 2
    }
   ],
   "source": [
    "os.getcwd()"
   ]
  },
  {
   "cell_type": "code",
   "execution_count": 3,
   "metadata": {},
   "outputs": [
    {
     "output_type": "stream",
     "name": "stdout",
     "text": [
      "Reading /store/users/ehinger/wlfo/data/ITW_Wild_subj47_4_continous_Engbert.fdt\n",
      "Reading 0 ... 4147467  =      0.000 ...  4050.261 secs...\n",
      "<ipython-input-3-2e71c986cfa5>:1: RuntimeWarning: The data contains 'boundary' events, indicating data discontinuities. Be cautious of filtering and epoching around these events.\n",
      "  raw = mne.io.read_raw_eeglab(\"../data/ITW_Wild_subj47_4_continous_Engbert.set\",preload=True)\n"
     ]
    }
   ],
   "source": [
    "raw = mne.io.read_raw_eeglab(\"../data/ITW_Wild_subj47_4_continous_Engbert.set\",preload=True)\n"
   ]
  },
  {
   "cell_type": "code",
   "execution_count": 8,
   "metadata": {},
   "outputs": [],
   "source": [
    "#raw_small = raw.copy().resample(120)\n",
    "df=raw.pick_channels([\"EYE-X\",\"EYE-Y\"]).to_data_frame()\n",
    "df = df.drop(\"time\",axis=1)\n",
    "df[[\"EYE-X\",\"EYE-Y\"]] = df[[\"EYE-X\",\"EYE-Y\"]]#*10**6\n",
    "\n",
    "df.iloc[1:100000].to_csv('tmp.csv',index=False,sep=\"\\t\",header=0)"
   ]
  },
  {
   "source": [],
   "cell_type": "markdown",
   "metadata": {}
  },
  {
   "cell_type": "code",
   "execution_count": 5,
   "metadata": {},
   "outputs": [
    {
     "output_type": "execute_result",
     "data": {
      "text/plain": [
       "'/home/ehinger/.local/lib/python3.8/site-packages/remodnav/clf.py'"
      ]
     },
     "metadata": {},
     "execution_count": 5
    }
   ],
   "source": [
    "remodnav.clf.__file__\n"
   ]
  },
  {
   "cell_type": "code",
   "execution_count": 9,
   "metadata": {
    "tags": []
   },
   "outputs": [],
   "source": [
    "#remodnav.main(args=[\"test\",\"infile\",\"tmp.csv\",\"px2deg\",\"1\",\"outfile\",\"tmp2\",\"sampling_rate\",str(raw.info[\"sfreq\"]),\"--log-level\",\"info\"])\n",
    "from importlib import reload  \n",
    "reload(remodnav)\n",
    "remodnav.main(['fake', \"tmp.csv\", \"tmp2\", \"1.\", str(raw.info[\"sfreq\"]),\"--log-level\",\"error\"])"
   ]
  },
  {
   "cell_type": "code",
   "execution_count": null,
   "metadata": {},
   "outputs": [],
   "source": []
  }
 ]
}